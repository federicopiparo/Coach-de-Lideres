{
 "cells": [
  {
   "cell_type": "markdown",
   "id": "bc19f43a",
   "metadata": {},
   "source": [
    "![logo](![logo](Coachdelideres_logo.jpg))"
   ]
  }
 ],
 "metadata": {
  "language_info": {
   "name": "python"
  }
 },
 "nbformat": 4,
 "nbformat_minor": 5
}
