{
 "cells": [
  {
   "cell_type": "markdown",
   "id": "bc19f43a",
   "metadata": {},
   "source": [
    "![logo](Coachdelideres_logo.jpg)"
   ]
  },
  {
   "cell_type": "code",
   "execution_count": 1,
   "id": "c083d3cd",
   "metadata": {},
   "outputs": [],
   "source": [
    "import pandas as pd"
   ]
  }
 ],
 "metadata": {
  "kernelspec": {
   "display_name": "Coachdelderes",
   "language": "python",
   "name": "python3"
  },
  "language_info": {
   "codemirror_mode": {
    "name": "ipython",
    "version": 3
   },
   "file_extension": ".py",
   "mimetype": "text/x-python",
   "name": "python",
   "nbconvert_exporter": "python",
   "pygments_lexer": "ipython3",
   "version": "3.12.10"
  }
 },
 "nbformat": 4,
 "nbformat_minor": 5
}
