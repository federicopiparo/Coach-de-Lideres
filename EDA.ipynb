{
 "cells": [
  {
   "cell_type": "markdown",
   "id": "bc19f43a",
   "metadata": {},
   "source": [
    "![logo](Coachdelideres_logo.jpg)"
   ]
  },
  {
   "cell_type": "code",
   "execution_count": 27,
   "id": "c083d3cd",
   "metadata": {},
   "outputs": [],
   "source": [
    "import pandas as pd"
   ]
  },
  {
   "cell_type": "code",
   "execution_count": 45,
   "id": "ea2d5a96",
   "metadata": {},
   "outputs": [],
   "source": [
    "\n",
    "df = pd.read_excel(\"C:\\\\Users\\\\fede\\\\Documents\\\\Coach de lideres\\\\Feedback.xlsx\")\n",
    "df.columns = ['fecha', 'correo', 'emociones','coach','fue util?', 'como te sentiste después de la sesion?','te sentiste bien expresandote?','nota','comentarios','comentarios cosas positivas destacadas','comentarios de mejora','¿fue util?','NaN']"
   ]
  },
  {
   "cell_type": "code",
   "execution_count": 46,
   "id": "1d1fdcdc",
   "metadata": {},
   "outputs": [
    {
     "data": {
      "text/html": [
       "<div>\n",
       "<style scoped>\n",
       "    .dataframe tbody tr th:only-of-type {\n",
       "        vertical-align: middle;\n",
       "    }\n",
       "\n",
       "    .dataframe tbody tr th {\n",
       "        vertical-align: top;\n",
       "    }\n",
       "\n",
       "    .dataframe thead th {\n",
       "        text-align: right;\n",
       "    }\n",
       "</style>\n",
       "<table border=\"1\" class=\"dataframe\">\n",
       "  <thead>\n",
       "    <tr style=\"text-align: right;\">\n",
       "      <th></th>\n",
       "      <th>fecha</th>\n",
       "      <th>correo</th>\n",
       "      <th>emociones</th>\n",
       "      <th>coach</th>\n",
       "      <th>fue util?</th>\n",
       "      <th>como te sentiste después de la sesion?</th>\n",
       "      <th>te sentiste bien expresandote?</th>\n",
       "      <th>nota</th>\n",
       "      <th>comentarios</th>\n",
       "      <th>comentarios cosas positivas destacadas</th>\n",
       "      <th>comentarios de mejora</th>\n",
       "      <th>¿fue util?</th>\n",
       "      <th>NaN</th>\n",
       "    </tr>\n",
       "  </thead>\n",
       "  <tbody>\n",
       "    <tr>\n",
       "      <th>0</th>\n",
       "      <td>2023-10-08 12:27:54.616</td>\n",
       "      <td>marcelo.i.grimberg@gmail.com</td>\n",
       "      <td>Ansiedad, Frustración, Estres, Incertidumbre, ...</td>\n",
       "      <td>Laura</td>\n",
       "      <td>Si</td>\n",
       "      <td>Alta predisposición a tomar acción</td>\n",
       "      <td>Si</td>\n",
       "      <td>2</td>\n",
       "      <td>no tuve nunca una experiencia de coach. a pesa...</td>\n",
       "      <td>la disposición de laura para ayudarme</td>\n",
       "      <td>hay momentos en los que Laura debería hacer un...</td>\n",
       "      <td>Sí</td>\n",
       "      <td>NaN</td>\n",
       "    </tr>\n",
       "  </tbody>\n",
       "</table>\n",
       "</div>"
      ],
      "text/plain": [
       "                    fecha                        correo  \\\n",
       "0 2023-10-08 12:27:54.616  marcelo.i.grimberg@gmail.com   \n",
       "\n",
       "                                           emociones  coach fue util?  \\\n",
       "0  Ansiedad, Frustración, Estres, Incertidumbre, ...  Laura        Si   \n",
       "\n",
       "  como te sentiste después de la sesion? te sentiste bien expresandote?  nota  \\\n",
       "0     Alta predisposición a tomar acción                             Si     2   \n",
       "\n",
       "                                         comentarios  \\\n",
       "0  no tuve nunca una experiencia de coach. a pesa...   \n",
       "\n",
       "   comentarios cosas positivas destacadas  \\\n",
       "0  la disposición de laura para ayudarme    \n",
       "\n",
       "                               comentarios de mejora ¿fue util?  NaN  \n",
       "0  hay momentos en los que Laura debería hacer un...         Sí  NaN  "
      ]
     },
     "execution_count": 46,
     "metadata": {},
     "output_type": "execute_result"
    }
   ],
   "source": [
    "df.head(1)"
   ]
  }
 ],
 "metadata": {
  "kernelspec": {
   "display_name": "base",
   "language": "python",
   "name": "python3"
  },
  "language_info": {
   "codemirror_mode": {
    "name": "ipython",
    "version": 3
   },
   "file_extension": ".py",
   "mimetype": "text/x-python",
   "name": "python",
   "nbconvert_exporter": "python",
   "pygments_lexer": "ipython3",
   "version": "3.12.4"
  }
 },
 "nbformat": 4,
 "nbformat_minor": 5
}
